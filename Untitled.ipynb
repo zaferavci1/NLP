{
 "cells": [
  {
   "cell_type": "code",
   "execution_count": 36,
   "id": "23db9bf0-be7d-4555-bbd7-408c1c371ad7",
   "metadata": {},
   "outputs": [],
   "source": [
    "from warnings import filterwarnings\n",
    "import matplotlib.pyplot as plt\n",
    "import numpy as np\n",
    "import pandas as pd\n",
    "from PIL import Image\n",
    "from nltk.corpus import stopwords\n",
    "from nltk.sentiment import SentimentIntensityAnalyzer\n",
    "from sklearn.ensemble import RandomForestClassifier\n",
    "from sklearn.linear_model import LogisticRegression\n",
    "from sklearn.model_selection import cross_val_score, GridSearchCV, cross_validate\n",
    "from sklearn.preprocessing import LabelEncoder\n",
    "from textblob import Word, TextBlob\n",
    "from wordcloud import WordCloud"
   ]
  },
  {
   "cell_type": "code",
   "execution_count": 2,
   "id": "05d35b99-98e1-46a7-9d77-b6ea682c6975",
   "metadata": {},
   "outputs": [],
   "source": [
    "df = pd.read_excel(\"amazon-221126-161000/amazon.xlsx\")"
   ]
  },
  {
   "cell_type": "code",
   "execution_count": 3,
   "id": "332fddeb-3425-4199-a5bd-abf235c349d5",
   "metadata": {},
   "outputs": [],
   "source": [
    "df.columns = [\"star\", \"helpful\", \"title\", \"review\"]"
   ]
  },
  {
   "cell_type": "code",
   "execution_count": 4,
   "id": "0bf17872-403f-4875-a4a2-f51bc27af48e",
   "metadata": {},
   "outputs": [
    {
     "data": {
      "text/html": [
       "<div>\n",
       "<style scoped>\n",
       "    .dataframe tbody tr th:only-of-type {\n",
       "        vertical-align: middle;\n",
       "    }\n",
       "\n",
       "    .dataframe tbody tr th {\n",
       "        vertical-align: top;\n",
       "    }\n",
       "\n",
       "    .dataframe thead th {\n",
       "        text-align: right;\n",
       "    }\n",
       "</style>\n",
       "<table border=\"1\" class=\"dataframe\">\n",
       "  <thead>\n",
       "    <tr style=\"text-align: right;\">\n",
       "      <th></th>\n",
       "      <th>star</th>\n",
       "      <th>helpful</th>\n",
       "      <th>title</th>\n",
       "      <th>review</th>\n",
       "    </tr>\n",
       "  </thead>\n",
       "  <tbody>\n",
       "    <tr>\n",
       "      <th>0</th>\n",
       "      <td>5</td>\n",
       "      <td>0</td>\n",
       "      <td>looks great</td>\n",
       "      <td>Happy with it</td>\n",
       "    </tr>\n",
       "    <tr>\n",
       "      <th>1</th>\n",
       "      <td>5</td>\n",
       "      <td>0</td>\n",
       "      <td>Pattern did not align between the two panels.</td>\n",
       "      <td>Good quality material however the panels are m...</td>\n",
       "    </tr>\n",
       "    <tr>\n",
       "      <th>2</th>\n",
       "      <td>5</td>\n",
       "      <td>0</td>\n",
       "      <td>Imagery is stretched. Still fun.</td>\n",
       "      <td>Product was fun for bedroom windows.&lt;br /&gt;Imag...</td>\n",
       "    </tr>\n",
       "    <tr>\n",
       "      <th>3</th>\n",
       "      <td>5</td>\n",
       "      <td>0</td>\n",
       "      <td>Que se ven elegantes muy finas</td>\n",
       "      <td>Lo unico que me gustaria es que sean un poco ...</td>\n",
       "    </tr>\n",
       "    <tr>\n",
       "      <th>4</th>\n",
       "      <td>5</td>\n",
       "      <td>0</td>\n",
       "      <td>Wow great purchase</td>\n",
       "      <td>Great bang for the buck I can't believe the qu...</td>\n",
       "    </tr>\n",
       "  </tbody>\n",
       "</table>\n",
       "</div>"
      ],
      "text/plain": [
       "   star  helpful                                          title  \\\n",
       "0     5        0                                    looks great   \n",
       "1     5        0  Pattern did not align between the two panels.   \n",
       "2     5        0               Imagery is stretched. Still fun.   \n",
       "3     5        0                 Que se ven elegantes muy finas   \n",
       "4     5        0                             Wow great purchase   \n",
       "\n",
       "                                              review  \n",
       "0                                      Happy with it  \n",
       "1  Good quality material however the panels are m...  \n",
       "2  Product was fun for bedroom windows.<br />Imag...  \n",
       "3   Lo unico que me gustaria es que sean un poco ...  \n",
       "4  Great bang for the buck I can't believe the qu...  "
      ]
     },
     "execution_count": 4,
     "metadata": {},
     "output_type": "execute_result"
    }
   ],
   "source": [
    "df.head()"
   ]
  },
  {
   "cell_type": "code",
   "execution_count": 5,
   "id": "f8726ced-87a5-408b-87db-f80458363d83",
   "metadata": {},
   "outputs": [
    {
     "data": {
      "text/plain": [
       "0                                           Happy with it\n",
       "1       Good quality material however the panels are m...\n",
       "2       Product was fun for bedroom windows.<br />Imag...\n",
       "3        Lo unico que me gustaria es que sean un poco ...\n",
       "4       Great bang for the buck I can't believe the qu...\n",
       "                              ...                        \n",
       "5606    Great product for reasonable money.  Delivered...\n",
       "5607             Color is way off and panels do not match\n",
       "5608    These are great for my studio as they compleme...\n",
       "5609    Brought out the beauty in kids room. They love...\n",
       "5610    Very cute curtains in my sons room! Thick enou...\n",
       "Name: review, Length: 5611, dtype: object"
      ]
     },
     "execution_count": 5,
     "metadata": {},
     "output_type": "execute_result"
    }
   ],
   "source": [
    "df[\"review\"]"
   ]
  },
  {
   "cell_type": "code",
   "execution_count": 7,
   "id": "6db88f2f-8213-4c08-b880-9b6d4f0b9177",
   "metadata": {},
   "outputs": [
    {
     "data": {
      "text/html": [
       "<div>\n",
       "<style scoped>\n",
       "    .dataframe tbody tr th:only-of-type {\n",
       "        vertical-align: middle;\n",
       "    }\n",
       "\n",
       "    .dataframe tbody tr th {\n",
       "        vertical-align: top;\n",
       "    }\n",
       "\n",
       "    .dataframe thead th {\n",
       "        text-align: right;\n",
       "    }\n",
       "</style>\n",
       "<table border=\"1\" class=\"dataframe\">\n",
       "  <thead>\n",
       "    <tr style=\"text-align: right;\">\n",
       "      <th></th>\n",
       "      <th>star</th>\n",
       "      <th>helpful</th>\n",
       "      <th>title</th>\n",
       "      <th>review</th>\n",
       "    </tr>\n",
       "  </thead>\n",
       "  <tbody>\n",
       "    <tr>\n",
       "      <th>0</th>\n",
       "      <td>5</td>\n",
       "      <td>0</td>\n",
       "      <td>looks great</td>\n",
       "      <td>happy with it</td>\n",
       "    </tr>\n",
       "    <tr>\n",
       "      <th>1</th>\n",
       "      <td>5</td>\n",
       "      <td>0</td>\n",
       "      <td>Pattern did not align between the two panels.</td>\n",
       "      <td>good quality material however the panels are m...</td>\n",
       "    </tr>\n",
       "    <tr>\n",
       "      <th>2</th>\n",
       "      <td>5</td>\n",
       "      <td>0</td>\n",
       "      <td>Imagery is stretched. Still fun.</td>\n",
       "      <td>product was fun for bedroom windows.&lt;br /&gt;imag...</td>\n",
       "    </tr>\n",
       "    <tr>\n",
       "      <th>3</th>\n",
       "      <td>5</td>\n",
       "      <td>0</td>\n",
       "      <td>Que se ven elegantes muy finas</td>\n",
       "      <td>lo unico que me gustaria es que sean un poco ...</td>\n",
       "    </tr>\n",
       "    <tr>\n",
       "      <th>4</th>\n",
       "      <td>5</td>\n",
       "      <td>0</td>\n",
       "      <td>Wow great purchase</td>\n",
       "      <td>great bang for the buck i can't believe the qu...</td>\n",
       "    </tr>\n",
       "  </tbody>\n",
       "</table>\n",
       "</div>"
      ],
      "text/plain": [
       "   star  helpful                                          title  \\\n",
       "0     5        0                                    looks great   \n",
       "1     5        0  Pattern did not align between the two panels.   \n",
       "2     5        0               Imagery is stretched. Still fun.   \n",
       "3     5        0                 Que se ven elegantes muy finas   \n",
       "4     5        0                             Wow great purchase   \n",
       "\n",
       "                                              review  \n",
       "0                                      happy with it  \n",
       "1  good quality material however the panels are m...  \n",
       "2  product was fun for bedroom windows.<br />imag...  \n",
       "3   lo unico que me gustaria es que sean un poco ...  \n",
       "4  great bang for the buck i can't believe the qu...  "
      ]
     },
     "execution_count": 7,
     "metadata": {},
     "output_type": "execute_result"
    }
   ],
   "source": [
    "df[\"review\"] = df[\"review\"].str.lower()\n",
    "df.head()"
   ]
  },
  {
   "cell_type": "code",
   "execution_count": 8,
   "id": "bb4397ca-0881-4168-a7fb-c3b0d53c10e1",
   "metadata": {},
   "outputs": [],
   "source": [
    "df[\"review\"] = df[\"review\"].str.replace(r\"[^\\w\\s]\", \" \", regex=True)"
   ]
  },
  {
   "cell_type": "code",
   "execution_count": 9,
   "id": "cc8d2802-3abb-483c-a70c-f41d7423f453",
   "metadata": {},
   "outputs": [
    {
     "data": {
      "text/html": [
       "<div>\n",
       "<style scoped>\n",
       "    .dataframe tbody tr th:only-of-type {\n",
       "        vertical-align: middle;\n",
       "    }\n",
       "\n",
       "    .dataframe tbody tr th {\n",
       "        vertical-align: top;\n",
       "    }\n",
       "\n",
       "    .dataframe thead th {\n",
       "        text-align: right;\n",
       "    }\n",
       "</style>\n",
       "<table border=\"1\" class=\"dataframe\">\n",
       "  <thead>\n",
       "    <tr style=\"text-align: right;\">\n",
       "      <th></th>\n",
       "      <th>star</th>\n",
       "      <th>helpful</th>\n",
       "      <th>title</th>\n",
       "      <th>review</th>\n",
       "    </tr>\n",
       "  </thead>\n",
       "  <tbody>\n",
       "    <tr>\n",
       "      <th>0</th>\n",
       "      <td>5</td>\n",
       "      <td>0</td>\n",
       "      <td>looks great</td>\n",
       "      <td>happy with it</td>\n",
       "    </tr>\n",
       "    <tr>\n",
       "      <th>1</th>\n",
       "      <td>5</td>\n",
       "      <td>0</td>\n",
       "      <td>Pattern did not align between the two panels.</td>\n",
       "      <td>good quality material however the panels are m...</td>\n",
       "    </tr>\n",
       "    <tr>\n",
       "      <th>2</th>\n",
       "      <td>5</td>\n",
       "      <td>0</td>\n",
       "      <td>Imagery is stretched. Still fun.</td>\n",
       "      <td>product was fun for bedroom windows  br   imag...</td>\n",
       "    </tr>\n",
       "    <tr>\n",
       "      <th>3</th>\n",
       "      <td>5</td>\n",
       "      <td>0</td>\n",
       "      <td>Que se ven elegantes muy finas</td>\n",
       "      <td>lo unico que me gustaria es que sean un poco ...</td>\n",
       "    </tr>\n",
       "    <tr>\n",
       "      <th>4</th>\n",
       "      <td>5</td>\n",
       "      <td>0</td>\n",
       "      <td>Wow great purchase</td>\n",
       "      <td>great bang for the buck i can t believe the qu...</td>\n",
       "    </tr>\n",
       "  </tbody>\n",
       "</table>\n",
       "</div>"
      ],
      "text/plain": [
       "   star  helpful                                          title  \\\n",
       "0     5        0                                    looks great   \n",
       "1     5        0  Pattern did not align between the two panels.   \n",
       "2     5        0               Imagery is stretched. Still fun.   \n",
       "3     5        0                 Que se ven elegantes muy finas   \n",
       "4     5        0                             Wow great purchase   \n",
       "\n",
       "                                              review  \n",
       "0                                      happy with it  \n",
       "1  good quality material however the panels are m...  \n",
       "2  product was fun for bedroom windows  br   imag...  \n",
       "3   lo unico que me gustaria es que sean un poco ...  \n",
       "4  great bang for the buck i can t believe the qu...  "
      ]
     },
     "execution_count": 9,
     "metadata": {},
     "output_type": "execute_result"
    }
   ],
   "source": [
    "df.head()"
   ]
  },
  {
   "cell_type": "code",
   "execution_count": 10,
   "id": "7b2d0246-57ab-45ad-8125-ac8c86db4451",
   "metadata": {},
   "outputs": [],
   "source": [
    "df[\"review\"] = df[\"review\"].str.replace(r\"\\d\", \" \", regex=True)"
   ]
  },
  {
   "cell_type": "code",
   "execution_count": 29,
   "id": "0b39f6f9-f302-4a7b-afa5-b90f756aedc8",
   "metadata": {},
   "outputs": [],
   "source": [
    "import nltk\n",
    "#nltk.download('stopwords')\n",
    "sw = stopwords.words(\"english\")"
   ]
  },
  {
   "cell_type": "code",
   "execution_count": 39,
   "id": "4474a27d-1548-4313-86a1-d9f686e665ba",
   "metadata": {},
   "outputs": [],
   "source": [
    "df[\"reviewText\"] = df[\"review\"].apply(lambda x: \" \".join(x for x in str(x).split() if x not in sw))"
   ]
  },
  {
   "cell_type": "code",
   "execution_count": 41,
   "id": "0c49c626-785a-4e3d-a2b5-ab42e99f1317",
   "metadata": {},
   "outputs": [],
   "source": [
    "dneme = df[\"reviewText\"].apply(lambda x: \" \".join(str(x).split()))"
   ]
  },
  {
   "cell_type": "code",
   "execution_count": 44,
   "id": "bf169cca-393c-414b-8582-26289b16e23a",
   "metadata": {},
   "outputs": [
    {
     "ename": "AttributeError",
     "evalue": "'Series' object has no attribute 'value_count'",
     "output_type": "error",
     "traceback": [
      "\u001b[0;31m---------------------------------------------------------------------------\u001b[0m",
      "\u001b[0;31mAttributeError\u001b[0m                            Traceback (most recent call last)",
      "\u001b[0;32m/var/folders/st/g578wh254q58gyrbtjhdkz380000gn/T/ipykernel_32103/1829729847.py\u001b[0m in \u001b[0;36m?\u001b[0;34m()\u001b[0m\n\u001b[0;32m----> 1\u001b[0;31m \u001b[0mdneme\u001b[0m\u001b[0;34m.\u001b[0m\u001b[0mvalue_count\u001b[0m\u001b[0;34m(\u001b[0m\u001b[0;34m)\u001b[0m\u001b[0;34m\u001b[0m\u001b[0;34m\u001b[0m\u001b[0m\n\u001b[0m",
      "\u001b[0;32m/Library/Frameworks/Python.framework/Versions/3.13/lib/python3.13/site-packages/pandas/core/generic.py\u001b[0m in \u001b[0;36m?\u001b[0;34m(self, name)\u001b[0m\n\u001b[1;32m   6295\u001b[0m             \u001b[0;32mand\u001b[0m \u001b[0mname\u001b[0m \u001b[0;32mnot\u001b[0m \u001b[0;32min\u001b[0m \u001b[0mself\u001b[0m\u001b[0;34m.\u001b[0m\u001b[0m_accessors\u001b[0m\u001b[0;34m\u001b[0m\u001b[0;34m\u001b[0m\u001b[0m\n\u001b[1;32m   6296\u001b[0m             \u001b[0;32mand\u001b[0m \u001b[0mself\u001b[0m\u001b[0;34m.\u001b[0m\u001b[0m_info_axis\u001b[0m\u001b[0;34m.\u001b[0m\u001b[0m_can_hold_identifiers_and_holds_name\u001b[0m\u001b[0;34m(\u001b[0m\u001b[0mname\u001b[0m\u001b[0;34m)\u001b[0m\u001b[0;34m\u001b[0m\u001b[0;34m\u001b[0m\u001b[0m\n\u001b[1;32m   6297\u001b[0m         \u001b[0;34m)\u001b[0m\u001b[0;34m:\u001b[0m\u001b[0;34m\u001b[0m\u001b[0;34m\u001b[0m\u001b[0m\n\u001b[1;32m   6298\u001b[0m             \u001b[0;32mreturn\u001b[0m \u001b[0mself\u001b[0m\u001b[0;34m[\u001b[0m\u001b[0mname\u001b[0m\u001b[0;34m]\u001b[0m\u001b[0;34m\u001b[0m\u001b[0;34m\u001b[0m\u001b[0m\n\u001b[0;32m-> 6299\u001b[0;31m         \u001b[0;32mreturn\u001b[0m \u001b[0mobject\u001b[0m\u001b[0;34m.\u001b[0m\u001b[0m__getattribute__\u001b[0m\u001b[0;34m(\u001b[0m\u001b[0mself\u001b[0m\u001b[0;34m,\u001b[0m \u001b[0mname\u001b[0m\u001b[0;34m)\u001b[0m\u001b[0;34m\u001b[0m\u001b[0;34m\u001b[0m\u001b[0m\n\u001b[0m",
      "\u001b[0;31mAttributeError\u001b[0m: 'Series' object has no attribute 'value_count'"
     ]
    }
   ],
   "source": [
    "dneme.value_count()"
   ]
  },
  {
   "cell_type": "code",
   "execution_count": null,
   "id": "52e2e591-d493-43e1-a7ef-192b8a9a0eb4",
   "metadata": {},
   "outputs": [],
   "source": []
  }
 ],
 "metadata": {
  "kernelspec": {
   "display_name": "Python 3 (ipykernel)",
   "language": "python",
   "name": "python3"
  },
  "language_info": {
   "codemirror_mode": {
    "name": "ipython",
    "version": 3
   },
   "file_extension": ".py",
   "mimetype": "text/x-python",
   "name": "python",
   "nbconvert_exporter": "python",
   "pygments_lexer": "ipython3",
   "version": "3.13.1"
  }
 },
 "nbformat": 4,
 "nbformat_minor": 5
}
